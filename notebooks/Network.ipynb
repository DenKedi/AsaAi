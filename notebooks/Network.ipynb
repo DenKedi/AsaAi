{
 "cells": [
  {
   "cell_type": "code",
   "id": "initial_id",
   "metadata": {
    "collapsed": true,
    "ExecuteTime": {
     "end_time": "2025-06-24T19:50:08.198895Z",
     "start_time": "2025-06-24T19:46:58.667716Z"
    }
   },
   "source": [
    "# Wichtig: Wir müssen den Pfad anpassen, damit Python unsere Module findet\n",
    "import sys\n",
    "import os\n",
    "sys.path.append(os.path.abspath('..')) # Fügt das Hauptverzeichnis zum Pfad hinzu\n",
    "\n",
    "# Jetzt können wir unsere Skripte importieren und gezielt ausführen\n",
    "from train import train\n",
    "from play import play\n",
    "from tune import tune\n",
    "\n",
    "# --- Wählen Sie eine Aktion aus (kommentieren Sie die andere aus) ---\n",
    "\n",
    "# Option 1: Den Hyperparameter-Tuning-Prozess starten\n",
    "print(\"Starte Tuning-Prozess...\")\n",
    "tune()\n",
    "\n",
    "# Option 2: Ein bereits gespeichertes Modell laden und anschauen (wenn train() auch speichert)\n",
    "# print(\"Starte Abspielprozess...\")\n",
    "# play()\n",
    "\n",
    "# Option 3: Ein einzelnes Training mit den Werten aus der config-Datei starten\n",
    "# print(\"Starte einzelnes Training...\")\n",
    "# train(config.LEARNING_RATE, config.BATCH_SIZE, config.EPSILON_DECAY_DURATION_FACTOR)\n"
   ],
   "outputs": [
    {
     "name": "stdout",
     "output_type": "stream",
     "text": [
      "Starte Tuning-Prozess...\n",
      "\n",
      "--- STARTE RUN: Decay Factor = 0.00001300 ---\n",
      "    Episode 50 - Avg Reward (last 50): 20.02\n",
      "    Episode 100 - Avg Reward (last 50): 19.04\n",
      "    Episode 150 - Avg Reward (last 50): 15.82\n",
      "    Episode 200 - Avg Reward (last 50): 23.64\n",
      "    Episode 250 - Avg Reward (last 50): 32.34\n",
      "    Episode 300 - Avg Reward (last 50): 49.94\n",
      "    Episode 350 - Avg Reward (last 50): 79.14\n",
      "    Episode 400 - Avg Reward (last 50): 54.74\n",
      "    Episode 450 - Avg Reward (last 50): 52.72\n",
      "    Episode 500 - Avg Reward (last 50): 58.42\n",
      "--- ENDE RUN: End-Score = 58.42 ---\n",
      "\n",
      "--- STARTE RUN: Decay Factor = 0.00000812 ---\n",
      "    Episode 50 - Avg Reward (last 50): 16.56\n",
      "    Episode 100 - Avg Reward (last 50): 16.40\n",
      "    Episode 150 - Avg Reward (last 50): 17.28\n",
      "    Episode 200 - Avg Reward (last 50): 18.66\n",
      "    Episode 250 - Avg Reward (last 50): 31.42\n",
      "    Episode 300 - Avg Reward (last 50): 38.92\n",
      "    Episode 350 - Avg Reward (last 50): 48.02\n",
      "    Episode 400 - Avg Reward (last 50): 69.14\n",
      "    Episode 450 - Avg Reward (last 50): 64.20\n",
      "    Episode 500 - Avg Reward (last 50): 47.32\n",
      "--- ENDE RUN: End-Score = 47.32 ---\n",
      "\n",
      "--- STARTE RUN: Decay Factor = 0.00000542 ---\n",
      "    Episode 50 - Avg Reward (last 50): 18.00\n",
      "    Episode 100 - Avg Reward (last 50): 17.98\n",
      "    Episode 150 - Avg Reward (last 50): 18.10\n",
      "    Episode 200 - Avg Reward (last 50): 24.88\n",
      "    Episode 250 - Avg Reward (last 50): 32.32\n",
      "    Episode 300 - Avg Reward (last 50): 39.60\n",
      "    Episode 350 - Avg Reward (last 50): 42.98\n",
      "    Episode 400 - Avg Reward (last 50): 58.10\n",
      "    Episode 450 - Avg Reward (last 50): 45.42\n",
      "    Episode 500 - Avg Reward (last 50): 32.06\n",
      "--- ENDE RUN: End-Score = 32.06 ---\n",
      "\n",
      "\n",
      "--- TUNING ABGESCHLOSSEN ---\n",
      "Beste Kombination: DF=0.00001300\n",
      "Bester Score (Avg Reward Last 50): 58.42\n"
     ]
    }
   ],
   "execution_count": 1
  }
 ],
 "metadata": {
  "kernelspec": {
   "display_name": "Python 3",
   "language": "python",
   "name": "python3"
  },
  "language_info": {
   "codemirror_mode": {
    "name": "ipython",
    "version": 2
   },
   "file_extension": ".py",
   "mimetype": "text/x-python",
   "name": "python",
   "nbconvert_exporter": "python",
   "pygments_lexer": "ipython2",
   "version": "2.7.6"
  }
 },
 "nbformat": 4,
 "nbformat_minor": 5
}
